{
 "cells": [
  {
   "cell_type": "code",
   "execution_count": 1,
   "metadata": {},
   "outputs": [
    {
     "name": "stderr",
     "output_type": "stream",
     "text": [
      "Using backend: pytorch\n",
      "Other supported backends: tensorflow.compat.v1, tensorflow, jax, paddle.\n",
      "paddle supports more examples now and is recommended.\n"
     ]
    }
   ],
   "source": [
    "import numpy as np\n",
    "from utils.funcspace import COS, UnionSpace\n",
    "\n",
    "sp = UnionSpace(COS(20), COS(20), COS(20))\n",
    "\n",
    "feas = sp.random(2)\n",
    "xs = np.linspace(0, 1, 100)[:, None]\n",
    "func = sp.eval_batch(feas, xs)"
   ]
  },
  {
   "cell_type": "code",
   "execution_count": 2,
   "metadata": {},
   "outputs": [
    {
     "name": "stdout",
     "output_type": "stream",
     "text": [
      "[[0.    0.   ]\n",
      " [0.    0.005]\n",
      " [0.    0.01 ]\n",
      " ...\n",
      " [1.    0.99 ]\n",
      " [1.    0.995]\n",
      " [1.    1.   ]]\n",
      "(10, 101) (20301, 2)\n",
      "4.600708723068237\n"
     ]
    }
   ],
   "source": [
    "import time\n",
    "import torch\n",
    "import numpy as np\n",
    "from dataset import Cartesian, BidxDataLoader\n",
    "\n",
    "f = np.random.normal(size=(10, 101))\n",
    "grid = np.asarray(np.meshgrid(np.linspace(0, 1, 101), np.linspace(0, 1, 201))).T\n",
    "grid = grid.reshape(-1, 2)\n",
    "print(grid)\n",
    "print(f.shape, grid.shape)\n",
    "\n",
    "# b = torch.utils.data.SubsetRandomSampler(np.arange(1000))\n",
    "\n",
    "dataset = Cartesian(f, grid)\n",
    "loader = BidxDataLoader(dataset, batch_size=10000, iters=10000, shuffle=True, num_workers=0)\n",
    "dataset.add_funcs(f)\n",
    "t = time.time()\n",
    "for funcs, grids in loader:\n",
    "    # print(funcs.shape, grids.shape)\n",
    "    continue\n",
    "print(time.time() - t)"
   ]
  }
 ],
 "metadata": {
  "kernelspec": {
   "display_name": "pial2",
   "language": "python",
   "name": "python3"
  },
  "language_info": {
   "codemirror_mode": {
    "name": "ipython",
    "version": 3
   },
   "file_extension": ".py",
   "mimetype": "text/x-python",
   "name": "python",
   "nbconvert_exporter": "python",
   "pygments_lexer": "ipython3",
   "version": "3.10.13"
  }
 },
 "nbformat": 4,
 "nbformat_minor": 2
}
